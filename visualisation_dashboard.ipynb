{
 "cells": [
  {
   "cell_type": "markdown",
   "metadata": {
    "tags": []
   },
   "source": [
    "# Imports"
   ]
  },
  {
   "cell_type": "markdown",
   "metadata": {
    "tags": []
   },
   "source": [
    "## Python imports and setup"
   ]
  },
  {
   "cell_type": "code",
   "execution_count": null,
   "metadata": {
    "ExecuteTime": {
     "end_time": "2021-11-07T22:52:28.519841Z",
     "start_time": "2021-11-07T22:52:22.020681Z"
    },
    "tags": []
   },
   "outputs": [],
   "source": [
    "# Native Python\n",
    "import re\n",
    "import socket\n",
    "import colorsys\n",
    "from pathlib import Path\n",
    "from copy import deepcopy\n",
    "from functools import partial\n",
    "\n",
    "\n",
    "# Data storage & processing\n",
    "import numpy as np\n",
    "import pandas as pd\n",
    "import xarray as xr\n",
    "from scipy.signal import savgol_filter\n",
    "from sklearn.preprocessing import MinMaxScaler\n",
    "from PyMca5.PyMca.FsmReader import parseFile\n",
    "\n",
    "# Embeddings\n",
    "import umap\n",
    "from sklearn.manifold import TSNE\n",
    "from sklearn.decomposition import PCA\n",
    "from sklearn.preprocessing import MinMaxScaler\n",
    "\n",
    "# Plotting\n",
    "import panel as pn\n",
    "css = '''\n",
    ".bk.custom-panel {\n",
    "  background: #f0f0f0;\n",
    "  padding: 50px;\n",
    "  border-radius: 10px;\n",
    "}\n",
    ".bk.divider {\n",
    "  border-top: 1px solid #d9d9d9;\n",
    "  height: 5px;\n",
    "}\n",
    "'''\n",
    "pn.config.raw_css=[css]\n",
    "\n",
    "# import hsluv\n",
    "import param\n",
    "import holoviews as hv\n",
    "from bokeh.models import HoverTool\n",
    "from bokeh.themes.theme import Theme\n",
    "from holoviews.operation import decimate\n",
    "from holoviews.operation.datashader import datashade, dynspread, rasterize\n",
    "\n",
    "\n",
    "# To enable saving selections\n",
    "from numpy import array\n",
    "from holoviews import dim\n",
    "from holoviews.element.selection import spatial_select"
   ]
  },
  {
   "cell_type": "markdown",
   "metadata": {},
   "source": [
    "Set holoviews width (%) and backend"
   ]
  },
  {
   "cell_type": "code",
   "execution_count": null,
   "metadata": {
    "ExecuteTime": {
     "end_time": "2021-11-07T22:52:28.944506Z",
     "start_time": "2021-11-07T22:52:28.520898Z"
    },
    "tags": []
   },
   "outputs": [],
   "source": [
    "hv.extension(\"bokeh\", width=100)\n",
    "hv.Store.set_current_backend('bokeh')\n",
    "pn.extension()"
   ]
  },
  {
   "cell_type": "markdown",
   "metadata": {},
   "source": [
    "Set Bokeh theme and default holoviews *Curve* options"
   ]
  },
  {
   "cell_type": "code",
   "execution_count": null,
   "metadata": {
    "ExecuteTime": {
     "end_time": "2021-11-07T22:52:29.102096Z",
     "start_time": "2021-11-07T22:52:28.945507Z"
    },
    "tags": []
   },
   "outputs": [],
   "source": [
    "theme = Theme(\n",
    "    json={\n",
    "        'attrs' : {\n",
    "            'Figure' : {\n",
    "                'background_fill_color': '#f0f0f0',\n",
    "                'border_fill_color': '#f0f0f0',\n",
    "            }\n",
    "        }\n",
    "    }\n",
    ")\n",
    "\n",
    "hv.renderer('bokeh').theme = theme\n",
    "\n",
    "hv.opts.defaults(\n",
    "    hv.opts.Curve(tools=[\"hover\"], line_width=.75),\n",
    ")"
   ]
  },
  {
   "cell_type": "markdown",
   "metadata": {},
   "source": [
    "Set the default size of the plots, depending on the computer running it"
   ]
  },
  {
   "cell_type": "code",
   "execution_count": null,
   "metadata": {
    "ExecuteTime": {
     "end_time": "2021-11-07T22:52:29.117195Z",
     "start_time": "2021-11-07T22:52:29.103098Z"
    },
    "tags": []
   },
   "outputs": [],
   "source": [
    "size = 250\n",
    "\n",
    "if socket.gethostname() == \"Laurens-PC\":\n",
    "    size = 300"
   ]
  },
  {
   "cell_type": "markdown",
   "metadata": {},
   "source": [
    "### New Dashboard"
   ]
  },
  {
   "cell_type": "code",
   "execution_count": null,
   "metadata": {
    "ExecuteTime": {
     "end_time": "2021-11-07T22:54:15.767721Z",
     "start_time": "2021-11-07T22:54:12.007579Z"
    },
    "code_folding": [
     0,
     68,
     83,
     85,
     96,
     139,
     145,
     149,
     153,
     157,
     170,
     193,
     209,
     222,
     248,
     270,
     287,
     295,
     320,
     331,
     337,
     345,
     360,
     377,
     391,
     403,
     408,
     469,
     517,
     528,
     531,
     537,
     550,
     559,
     568,
     580,
     587,
     594,
     601,
     629,
     712
    ],
    "scrolled": false,
    "tags": []
   },
   "outputs": [],
   "source": [
    "class Opts(param.Parameterized):\n",
    "    \n",
    "    xlabel = param.String()\n",
    "    ylabel = param.String()\n",
    "    \n",
    "    xlim = param.NumericTuple()\n",
    "    ylim = param.NumericTuple()\n",
    "    \n",
    "    title = param.String()\n",
    "    aspect = param.String(None, allow_None=True)\n",
    "\n",
    "# Region selection\n",
    "class DataContainer(param.Parameterized):        \n",
    "    # Data import\n",
    "    filename = param.Filename()\n",
    "    spectral_data = param.Array()    \n",
    "    band_min = param.Number()\n",
    "    band_max = param.Number()\n",
    "    band_change = param.Number()\n",
    "    wavenumbers = param.Array()\n",
    "    \n",
    "    raw_data = param.Array()\n",
    "    all_data = param.Array()\n",
    "    sel_data = param.Array()\n",
    "    all_norm_data = param.Array()\n",
    "    \n",
    "    do_trans_to_abs = param.Boolean(False)\n",
    "    do_baseline_shift = param.Boolean(False)\n",
    "    do_normalisation = param.Boolean(False)\n",
    "    shifting_band = param.Integer(-1)\n",
    "    shifting_range = param.Integer(100, bounds=(1, None))\n",
    "    normalisation_band = param.Integer(-1)\n",
    "    normalisation_range = param.Integer(5, bounds=(1, None))\n",
    "    shifting_band_selector = pn.widgets.IntInput(name=\"Shifting band\")\n",
    "    normalisation_band_selector = pn.widgets.IntInput(name=\"Normalisation band\")\n",
    "    \n",
    "    # Region selection    \n",
    "    x_min = param.Integer(-1)\n",
    "    x_max = param.Integer(-1)\n",
    "    y_min = param.Integer(-1)\n",
    "    y_max = param.Integer(-1)\n",
    "    sel_plot_opts = Opts(xlim=(0, 10), ylim=(0, 10))\n",
    "    \n",
    "    # Plotting\n",
    "    band_selector = pn.widgets.IntInput(name=\"Plotting band\")\n",
    "    band = param.Selector()\n",
    "    band_index = None\n",
    "    quantile = param.Number(.99, bounds=(.5, 1))\n",
    "    \n",
    "    # Embeddings\n",
    "    pca_data = param.Dict()\n",
    "    tsne_data = param.Array()\n",
    "    umap_data = param.Array()\n",
    "    no_pca_comps = param.Integer(10, bounds=(1, None))\n",
    "    \n",
    "    EMPTY_DATA_2D = [[np.NaN, np.NaN], [np.NaN, np.NaN]]\n",
    "    EMPTY_DATA_3D = [[[np.NaN, np.NaN], [np.NaN, np.NaN]], [[np.NaN, np.NaN], [np.NaN, np.NaN]]]\n",
    "    exrds = xr.Dataset()\n",
    "    eds = hv.Dataset([])\n",
    "    \n",
    "    calculate_button = pn.widgets.Button(name=\"Calculate embeddings\")\n",
    "    \n",
    "    current_sel = param.Array()\n",
    "    \n",
    "    embedding_data = param.DataFrame()\n",
    "\n",
    "    # Data processing\n",
    "    @param.depends(\"filename\", watch=True)\n",
    "    def import_data(self):\n",
    "        \"\"\"Import data when the selected file changes\"\"\"\n",
    "        spectral_info, spectral_data = parseFile(self.filename)\n",
    "        \n",
    "        self.band_min = int(min( abs(spectral_info[\"zStart\"]), abs(spectral_info[\"zStart\"] + spectral_info[\"zDelta\"] * (spectral_info[\"zLength\"] - 1)) ))\n",
    "        self.band_max = int(max( abs(spectral_info[\"zStart\"]), abs(spectral_info[\"zStart\"] + spectral_info[\"zDelta\"] * (spectral_info[\"zLength\"] - 1)) ))\n",
    "        self.band_change = int(spectral_info[\"zDelta\"])\n",
    "\n",
    "        self.wavenumbers = np.arange(self.band_max, self.band_min+self.band_change, self.band_change)\n",
    "        self.param.band.objects = self.wavenumbers\n",
    "        self.band = self.param.band.objects[-1]\n",
    "        \n",
    "        self.spectral_data = spectral_data\n",
    "                \n",
    "    @param.depends(\"spectral_data\", \"do_trans_to_abs\", watch=True)\n",
    "    def transform_data(self):\n",
    "        \"\"\"Transform transmission into absorbance\"\"\"\n",
    "        if self.do_trans_to_abs:\n",
    "            # Transform transmission into absorbance\n",
    "            self.raw_data = -np.log10(self.spectral_data / 100)\n",
    "            \n",
    "            # Remove NaN values from logarithm of negative values\n",
    "            np.nan_to_num(self.raw_data, copy=False, nan=np.nanmin(self.raw_data))\n",
    "        \n",
    "        else:\n",
    "            self.raw_data = self.spectral_data\n",
    "            \n",
    "    @param.depends(\"raw_data\", \"do_baseline_shift\", \"shifting_band\", \"shifting_range\", watch=True)\n",
    "    def baseline_shift(self):\n",
    "        \"\"\"Carry out a baseline shift\"\"\"\n",
    "        if self.do_baseline_shift:\n",
    "            shift_band_1 = self._get_band(self.shifting_band - self.shifting_range)\n",
    "            shift_band_2 = self._get_band(self.shifting_band + self.shifting_range)\n",
    "            shift_band_low = min(shift_band_1, shift_band_2)\n",
    "            shift_band_high = max(shift_band_1, shift_band_2)\n",
    "\n",
    "            shift_abs = self.raw_data[..., np.arange(shift_band_low, shift_band_high)].mean(-1)\n",
    "            self.all_data = self.raw_data - np.repeat(shift_abs[..., np.newaxis], self.raw_data.shape[-1], axis=-1)\n",
    "            \n",
    "        else:\n",
    "            self.all_data = self.raw_data\n",
    "        \n",
    "    @param.depends(\"all_data\", \"do_normalisation\", \"normalisation_band\", \"normalisation_range\", watch=True)\n",
    "    def normalise(self):\n",
    "#         print(\"Normalising data\")\n",
    "        \"\"\"Add data to the correct data containers and normalise it\"\"\"\n",
    "        \n",
    "        # Do nothing if there is not data yet\n",
    "        if self.all_data is not None:\n",
    "            if self.do_normalisation:\n",
    "                norm_band_1 = self._get_band(self.normalisation_band - self.normalisation_range)\n",
    "                norm_band_2 = self._get_band(self.normalisation_band + self.normalisation_range)\n",
    "                norm_band_low = min(norm_band_1, norm_band_2)\n",
    "                norm_band_high = max(norm_band_1, norm_band_2)\n",
    "                \n",
    "                norm_mean = np.median(self.all_data[..., np.arange(norm_band_low, norm_band_high)].mean(-1))\n",
    "\n",
    "                self.all_norm_data = np.divide(self.all_data, np.repeat(self.all_data[..., np.arange(norm_band_low, norm_band_high)].mean(-1)[..., np.newaxis], self.all_data.shape[-1], axis=-1)) * norm_mean\n",
    "                self.data.exrds = xr.Dataset(\n",
    "                    data_vars = dict(absorbance=([\"x\", \"y\", \"band\"], self.all_norm_data)),\n",
    "                    coords = dict(x=np.arange(self.all_norm_data.shape[0]), y=np.arange(self.all_norm_data.shape[1]), band=self.wavenumbers),\n",
    "                ).stack(idx=(\"x\", \"y\"))\n",
    "            else:\n",
    "                self.exrds = xr.Dataset(\n",
    "                    data_vars = dict(absorbance=([\"x\", \"y\", \"band\"], self.all_data)),\n",
    "                    coords = dict(x=np.arange(self.all_data.shape[0]), y=np.arange(self.all_data.shape[1]), band=self.wavenumbers),\n",
    "                ).stack(idx=(\"x\", \"y\"))\n",
    "#                 self.exrds = self.exrds.merge(exrds, overwrite_vars=\"absorbance\", join=\"right\")\n",
    "            self.eds = hv.Dataset(self.exrds, [\"band\", \"idx\"])\n",
    "\n",
    "    @param.depends(\"band_selector.value\", watch=True)\n",
    "    def update_band(self):\n",
    "        # Initialise band_selector first with data\n",
    "        if self.band_selector.value != 0:\n",
    "            self.band = self.band_selector.value\n",
    "    \n",
    "    @param.depends(\"shifting_band_selector.value\", watch=True)\n",
    "    def update_shifting_band(self):\n",
    "        self.shifting_band = self.shifting_band_selector.value\n",
    "    \n",
    "    @param.depends(\"normalisation_band_selector.value\", watch=True)\n",
    "    def update_normalisation_band(self):\n",
    "        self.normalisation_band = self.normalisation_band_selector.value\n",
    "    \n",
    "    @param.depends(\"band\", watch=True)\n",
    "    def calculate_band_index(self):\n",
    "        self.band_index = self._get_band(self.band)\n",
    "    \n",
    "    @param.depends(\"spectral_data\", \"shifting_range\", \"normalisation_range\", watch=True)\n",
    "    def update_band_selectors(self):\n",
    "        self.band_selector.start = self.band_min\n",
    "        self.band_selector.stop = self.band_max\n",
    "        self.band_selector.step = abs(self.band_change)\n",
    "        \n",
    "        self.shifting_band_selector.start = self.band_min + self.shifting_range + abs(self.band_change)\n",
    "        self.shifting_band_selector.stop = self.band_max - self.shifting_range\n",
    "        self.shifting_band_selector.step = abs(self.band_change)\n",
    "        \n",
    "        self.normalisation_band_selector.start = self.band_min + self.normalisation_range + abs(self.band_change)\n",
    "        self.normalisation_band_selector.stop = self.band_max - self.normalisation_range\n",
    "        self.normalisation_band_selector.step = abs(self.band_change) \n",
    "    \n",
    "    def view(self):\n",
    "        file_select = pn.widgets.TextInput.from_param(self.param.filename, value=r\"C:\\Users\\gieri\\OneDrive\\Documenten\\Course manuals\\Stage\\Nachtwacht\\SK-C-5_047\\SK-C-5_047_FTIR-ATR_4cm_2021-04-12_raw.fs\")\n",
    "        ta_toggle = pn.widgets.Checkbox.from_param(self.param.do_trans_to_abs)\n",
    "        baseline_toggle = pn.widgets.Checkbox.from_param(self.param.do_baseline_shift)\n",
    "        normalisation_toggle = pn.widgets.Checkbox.from_param(self.param.do_normalisation)\n",
    "        shift_range = pn.widgets.IntInput.from_param(self.param.shifting_range)\n",
    "        norm_range = pn.widgets.IntInput.from_param(self.param.normalisation_range)\n",
    "        quantile_selector = pn.widgets.FloatInput.from_param(self.param.quantile)\n",
    "        \n",
    "        return pn.Column(\n",
    "            file_select,\n",
    "            pn.Row(ta_toggle, baseline_toggle, normalisation_toggle),\n",
    "            pn.Row(self.shifting_band_selector, self.normalisation_band_selector),\n",
    "            pn.Row(shift_range, norm_range),\n",
    "            pn.Row(self.band_selector, quantile_selector) \n",
    "        )\n",
    "    \n",
    "    def calculate_quantile(self, data, quantile=.99):\n",
    "        lower_q = np.nanquantile(data, 1 - quantile)\n",
    "        upper_q = np.nanquantile(data, quantile)\n",
    "\n",
    "        return np.clip(data, lower_q, upper_q)\n",
    "    \n",
    "    def get_coordinates(self, data):\n",
    "        \"\"\"\n",
    "        Create a coordinate space from the provided data.\n",
    "        \n",
    "        Args:\n",
    "            data (np.array): spectral data.\n",
    "            \n",
    "        Returns:\n",
    "            xy (np.array): 2D array with the x- and y- coordinates in \n",
    "                a x times y grid.\n",
    "        \"\"\"\n",
    "        x = [x % data.shape[1] for x in range(np.product(data.shape[:2]))]\n",
    "        y = [int(np.floor(y / data.shape[1])) for y in range(np.product(data.shape[:2]))]\n",
    "        \n",
    "        return x, y\n",
    "            \n",
    "    def _get_band(self, band):\n",
    "        return int( (band - self.band_max) / self.band_change )\n",
    "    \n",
    "\n",
    "class RegionSelection(param.Parameterized):\n",
    "    sample_selection = hv.link_selections.instance(unselected_alpha=.5, cross_filter_mode=\"overwrite\")\n",
    "    \n",
    "    selection_confirm = pn.widgets.Toggle(name=\"Confirm selection\")\n",
    "    \n",
    "    EMPTY_MAP = ([0, 10_000], [0, 10_000], [[None, None], [None, None]])\n",
    "    data_pipe = hv.streams.Pipe(EMPTY_MAP)\n",
    "    sel_data_pipe = hv.streams.Pipe(EMPTY_MAP)\n",
    "    \n",
    "    def __init__(self, datacontainer):\n",
    "        self.data = datacontainer\n",
    "        super().__init__()    \n",
    "    \n",
    "    \n",
    "    def create_selection_plot(self):\n",
    "         return self.sample_selection(\n",
    "             hv.DynamicMap(hv.Image, streams=[self.data_pipe]).opts(\n",
    "                 hv.opts.Image(\n",
    "                     cmap=\"viridis\", framewise=True, active_tools=[\"box_select\"], title=\"Region selection\",\n",
    "                     aspect=\"equal\", frame_height=int(2*size),\n",
    "                 ),\n",
    "             )\n",
    "         ).redim(x=\"selection_x\", y=\"selection_y\")\n",
    "    \n",
    "    def show_selection(self):\n",
    "        return hv.DynamicMap(\n",
    "            hv.Image, streams=[self.sel_data_pipe]\n",
    "        ).opts(\n",
    "            cmap=\"viridis\", framewise=True, tools=[\"hover\"],\n",
    "            title=\"Selected region\",  aspect=\"equal\", frame_height=int(2*size), axiswise=True,\n",
    "        ).redim(x=\"sel_x\", y=\"sel_y\").redim.label(sel_x=\"x\", sel_y=\"y\", z=\"Absorbance\").apply.opts(\n",
    "            xlim = self.data.sel_plot_opts.param.xlim, ylim = self.data.sel_plot_opts.param.ylim, \n",
    "        )\n",
    "\n",
    "    @param.depends(\"data.all_data\", \"data.all_norm_data\", \"data.do_normalisation\", \"data.band\", \"data.quantile\", watch=True)\n",
    "    def update_data_pipe(self):\n",
    "        # Skip if there is no data yet\n",
    "        if self.data.all_data is not None:\n",
    "            if self.data.do_normalisation:\n",
    "                data = self.data.calculate_quantile(self.data.all_norm_data[..., self.data.band_index], self.data.quantile)\n",
    "                \n",
    "                self.data_pipe.send(\n",
    "                    (np.arange(data.shape[0]), \n",
    "                     np.arange(data.shape[1]), \n",
    "                     data) \n",
    "                )\n",
    "                \n",
    "            else:\n",
    "                data = self.data.calculate_quantile(self.data.all_data[..., self.data.band_index], self.data.quantile)\n",
    "                \n",
    "                self.data_pipe.send(\n",
    "                    (np.arange(data.shape[1]), \n",
    "                     np.arange(data.shape[0]), \n",
    "                     data) \n",
    "                )\n",
    "            \n",
    "    @param.depends(\"data.sel_data\", \"data.band\", \"data.quantile\", watch=True)\n",
    "    def update_sel_data_pipe(self):\n",
    "        if self.data.sel_data is None:\n",
    "            self.sel_data_pipe.send(self.EMPTY_MAP)\n",
    "        \n",
    "        else:\n",
    "            data = self.data.calculate_quantile(self.data.sel_data[..., self.data.band_index], self.data.quantile)\n",
    "                \n",
    "            self.sel_data_pipe.send(\n",
    "                (np.arange(data.shape[1]),\n",
    "                 np.arange(data.shape[0]),\n",
    "                 data) \n",
    "            )\n",
    "            \n",
    "            self.data.sel_plot_opts.xlim = (-0.5, data.shape[1]-0.5)\n",
    "            self.data.sel_plot_opts.ylim = (-0.5, data.shape[0]-0.5)\n",
    "            \n",
    "    @param.depends(\"sample_selection.selection_expr\", watch=True)\n",
    "    def update_bounds(self):\n",
    "        sel_expr = str(self.sample_selection.selection_expr)\n",
    "        self.data.x_min = max(0, round(float(re.search(r\"'x'\\)>=(\\-*\\d+\\.*\\d*)\", sel_expr).group(1))))\n",
    "        self.data.x_max = min(self.data.all_data.shape[1], round(float(re.search(r\"'x'\\)<=(\\-*\\d+\\.*\\d*)\", sel_expr).group(1))))\n",
    "        self.data.y_min = max(0, round(float(re.search(r\"'y'\\)>=(\\-*\\d+\\.*\\d*)\", sel_expr).group(1))))\n",
    "        self.data.y_max = min(self.data.all_data.shape[0], round(float(re.search(r\"'y'\\)<=(\\-*\\d+\\.*\\d*)\", sel_expr).group(1))))\n",
    "    \n",
    "    @param.depends(\"selection_confirm.value\", watch=True)\n",
    "    def toggle_selection_button(self):\n",
    "        if self.selection_confirm.value:\n",
    "            self.selection_confirm.name = \"Change selection\"\n",
    "            \n",
    "        else:\n",
    "            self.selection_confirm.name = \"Confirm selection\"\n",
    "    \n",
    "    @param.depends(\"selection_confirm.value\", \"data.all_data\", \"data.all_norm_data\", watch=True)\n",
    "    def update_selection_data(self):\n",
    "        if self.selection_confirm.value:\n",
    "            if self.data.do_normalisation:\n",
    "                sel_data = self.data.all_norm_data[self.data.y_min:self.data.y_max, self.data.x_min:self.data.x_max, :]\n",
    "            else:\n",
    "                sel_data = self.data.all_data[self.data.y_min:self.data.y_max, self.data.x_min:self.data.x_max, :]\n",
    "            \n",
    "            # Replace the old data with the new selection\n",
    "            self.data.exrds = xr.Dataset(\n",
    "                data_vars = dict(absorbance=([\"x\", \"y\", \"band\"], sel_data)),\n",
    "                coords = dict(x=np.arange(sel_data.shape[0]), y=np.arange(sel_data.shape[1]), band=self.data.wavenumbers),\n",
    "            ).stack(idx=(\"x\", \"y\"))\n",
    "            self.data.eds = hv.Dataset(self.data.exrds, [\"band\", \"idx\"])\n",
    "            self.data.sel_data = sel_data\n",
    "        else:\n",
    "            self.data.sel_data = None\n",
    "        \n",
    "    def view(self):\n",
    "        selection_plot = self.create_selection_plot()\n",
    "        selected_plot = self.show_selection()\n",
    "        confirm_selection_button = self.selection_confirm\n",
    "        \n",
    "        return pn.Column(\n",
    "            pn.Row(selection_plot, selected_plot),\n",
    "            confirm_selection_button\n",
    "        )\n",
    "    \n",
    "\n",
    "class EmbeddingsProducer(param.Parameterized):\n",
    "\n",
    "    do_pca = param.Boolean()\n",
    "    do_tsne = param.Boolean()\n",
    "    do_umap = param.Boolean()\n",
    "\n",
    "    pca_params = param.Dict(dict(\n",
    "        whiten=False,\n",
    "        svd_solver='auto',\n",
    "        tol=0.0,\n",
    "        iterated_power='auto',\n",
    "        random_state=None,\n",
    "    ))\n",
    "    \n",
    "    tsne_distance_metric = param.Selector({\n",
    "        \"Euclidean\": \"euclidean\",\n",
    "        \"Pre-computed\": \"precomputed\",\n",
    "        \"Cosine\": \"cosine\",\n",
    "        \"Correlation\": \"correlation\",\n",
    "        \"Manhattan/City block\": \"cityblock\",\n",
    "        \"Haversine\": \"haversine\",\n",
    "        \"Chebyshev\": \"chebyshev\",\n",
    "        \"Minkowski\": \"minkowsky\",\n",
    "        \"Canberra\": \"canberra\",\n",
    "        \"Bray-Curtis\": \"braycurtis\",\n",
    "        \"Mahalanobis\": \"mahalanobis\",\n",
    "        \"Weighted Minkowsky\": \"wminkowsky\",\n",
    "        \"Std. Euclidean\": \"seuclidean\",\n",
    "    })\n",
    "    tsne_params = param.Dict(dict(\n",
    "        n_components=2,\n",
    "        perplexity=30.0,\n",
    "        early_exaggeration=12.0,\n",
    "        learning_rate=200.0,\n",
    "        n_iter=1000,\n",
    "        n_iter_without_progress=300,\n",
    "        min_grad_norm=1e-07,\n",
    "        init='random',\n",
    "        verbose=0,\n",
    "        random_state=None,\n",
    "        method='barnes_hut',\n",
    "        angle=0.5,\n",
    "        n_jobs=None,\n",
    "        square_distances='legacy',\n",
    "    ))\n",
    "    \n",
    "    umap_distance_metric = param.Selector({\n",
    "        \"Euclidean\": \"euclidean\",\n",
    "        \"Cosine\": \"cosine\",\n",
    "        \"Correlation\": \"correlation\",\n",
    "        \"Manhattan/City block\": \"cityblock\",\n",
    "        \"Haversine\": \"haversine\",\n",
    "        \"Chebyshev\": \"chebyshev\",\n",
    "        \"Minkowski\": \"minkowsky\",\n",
    "        \"Canberra\": \"canberra\",\n",
    "        \"Bray-Curtis\": \"braycurtis\",\n",
    "        \"Mahalanobis\": \"mahalanobis\",\n",
    "        \"Weighted Minkowsky\": \"wminkowsky\",\n",
    "        \"Std. Euclidean\": \"seuclidean\",\n",
    "    })\n",
    "    umap_params = param.Dict(dict(\n",
    "        n_neighbors=15, n_components=2, metric_kwds=None, output_metric='euclidean', output_metric_kwds=None,\n",
    "        n_epochs=None, learning_rate=1.0, init='spectral', min_dist=0.1, spread=1.0, low_memory=True,\n",
    "        n_jobs=-1, set_op_mix_ratio=1.0, local_connectivity=1.0, repulsion_strength=1.0, negative_sample_rate=5,\n",
    "        transform_queue_size=4.0, a=None, b=None, random_state=None, angular_rp_forest=False, target_n_neighbors=-1,\n",
    "        target_metric='categorical', target_metric_kwds=None, target_weight=0.5, transform_seed=42,\n",
    "        transform_mode='embedding', force_approximation_algorithm=False, verbose=False, unique=False,\n",
    "        densmap=False, dens_lambda=2.0, dens_frac=0.3, dens_var_shift=0.1, output_dens=False, \n",
    "        disconnection_distance=None,\n",
    "    ))\n",
    "    \n",
    "    \n",
    "    def __init__(self, datacontainer):\n",
    "        self.data = datacontainer\n",
    "        super().__init__()\n",
    "    \n",
    "    @param.depends(\"data.calculate_button.clicks\", watch=True)\n",
    "    def calculate_embeddings(self):\n",
    "        print(\"Calculating embeddings\")\n",
    "        \n",
    "        # Skip calculation if there is no data yet\n",
    "        if self.data.all_data is not None:\n",
    "            # Flatten the data into a 2D matrix\n",
    "            # If no data is selected, take all data\n",
    "            if self.data.sel_data is None:\n",
    "                flattened_data = self.data.all_data.reshape(-1, self.data.all_data.shape[-1])\n",
    "            else:\n",
    "                flattened_data = self.data.sel_data.reshape(-1, self.data.sel_data.shape[-1])\n",
    "\n",
    "            # PCA\n",
    "            if self.do_pca:\n",
    "                pca = PCA(n_components=self.data.no_pca_comps, **self.pca_params)\n",
    "\n",
    "                pca_data = dict(\n",
    "                    scores = pca.fit_transform(flattened_data),\n",
    "                    loadings = pca.components_.T * np.sqrt(pca.explained_variance_),\n",
    "                    expl_var = pca.explained_variance_ratio_,\n",
    "                )\n",
    "\n",
    "#                 columns = [f\"PC {i+1}\" for i in range(pca_data[\"scores\"].shape[1])]\n",
    "                self.data.exrds = self.data.exrds.assign({\n",
    "                    f\"PC {i+1}\": (\"idx\", pca_data[\"scores\"][:, i])\n",
    "                    for i in range(pca_data[\"scores\"].shape[1])\n",
    "                })\n",
    "                self.data.eds = hv.Dataset(self.data.exrds, [\"band\", \"idx\"])\n",
    "\n",
    "                self.data.pca_data = pca_data\n",
    "            else:\n",
    "                self.data.pca_data = None\n",
    "\n",
    "            # t-SNE\n",
    "            if self.do_tsne:\n",
    "                reducer = TSNE(metric=self.tsne_distance_metric, **self.tsne_params)\n",
    "                tsne_data = reducer.fit_transform(flattened_data)\n",
    "                self.data.exrds = self.data.exrds.assign({\n",
    "                    f\"t-SNE component {i+1}\": (\"idx\", tsne_data[:, i])\n",
    "                    for i in range(tsne_data.shape[1])\n",
    "                })\n",
    "                self.data.eds = hv.Dataset(self.data.exrds, [\"band\", \"idx\"])\n",
    "                \n",
    "                self.data.tsne_data = tsne_data\n",
    "            else:\n",
    "                self.data.tsne_data = None\n",
    "\n",
    "            # UMAP\n",
    "            if self.do_umap:\n",
    "                reducer = umap.UMAP(metric=self.umap_distance_metric, **self.umap_params)\n",
    "                umap_data = reducer.fit_transform(flattened_data)\n",
    "                self.data.exrds = self.data.exrds.assign({\n",
    "                    f\"UMAP component {i+1}\": (\"idx\", umap_data[:, i])\n",
    "                    for i in range(umap_data.shape[1])\n",
    "                })\n",
    "                self.data.eds = hv.Dataset(self.data.exrds, [\"band\", \"idx\"])\n",
    "                \n",
    "                self.data.umap_data = umap_data\n",
    "            else:\n",
    "                self.data.umap_data = None\n",
    "    \n",
    "    def view(self):\n",
    "        do_pca = pn.widgets.Checkbox.from_param(self.param.do_pca, name=\"PCA\")\n",
    "        pca_comp = pn.widgets.IntInput.from_param(self.data.param.no_pca_comps, name=\"No. of PCA components\")\n",
    "        pca_params = pn.widgets.LiteralInput.from_param(self.param.pca_params, name=\"Other PCA parameters (dict)\")\n",
    "        do_tsne = pn.widgets.Checkbox.from_param(self.param.do_tsne, name=\"t-SNE\")\n",
    "        tsne_dist = pn.widgets.Select.from_param(self.param.tsne_distance_metric, name=\"t-SNE distance metric\")\n",
    "        tsne_params = pn.widgets.LiteralInput.from_param(self.param.tsne_params, name=\"Other t-SNE parameters (dict)\")\n",
    "        do_umap = pn.widgets.Checkbox.from_param(self.param.do_umap, name=\"UMAP\")\n",
    "        umap_dist = pn.widgets.Select.from_param(self.param.umap_distance_metric, name=\"UMAP distance metric\")\n",
    "        umap_params = pn.widgets.LiteralInput.from_param(self.param.umap_params, name=\"Other UMAP parameters (dict)\")\n",
    "        cb = self.data.calculate_button\n",
    "        \n",
    "        return pn.Column(\n",
    "                \n",
    "            pn.Row(do_pca, pca_comp, pca_params),\n",
    "            pn.Row(do_tsne, tsne_dist, tsne_params),\n",
    "            pn.Row(do_umap, umap_dist, umap_params,),\n",
    "            cb,\n",
    "        )\n",
    "\n",
    "\n",
    "class ExplorationDashboard(param.Parameterized):\n",
    "    \n",
    "    pcx = param.Integer(1)\n",
    "    pcy = param.Integer(2)\n",
    "#     sel_idxs = param.Array()\n",
    "    sel_bool = param.Array()\n",
    "    \n",
    "    pca_sel_pipe = hv.streams.Pipe([])\n",
    "    pca_nonsel_pipe = hv.streams.Pipe([])\n",
    "    tsne_sel_pipe = hv.streams.Pipe([])\n",
    "    tsne_nonsel_pipe = hv.streams.Pipe([])\n",
    "    umap_sel_pipe = hv.streams.Pipe([])\n",
    "    umap_nonsel_pipe = hv.streams.Pipe([])\n",
    "    sample_sel_pipe = hv.streams.Pipe([])\n",
    "    sample_nonsel_pipe = hv.streams.Pipe([])\n",
    "    \n",
    "    pca_opts = Opts(xlabel=\"PC 1\", ylabel=\"PC 2\")\n",
    "    tsne_opts = Opts()\n",
    "    umap_opts = Opts()\n",
    "    sample_opts = Opts()\n",
    "    \n",
    "    ls1 = hv.link_selections.instance()\n",
    "    ls2 = hv.link_selections.instance()\n",
    "    ls3 = hv.link_selections.instance()\n",
    "    ls4 = hv.link_selections.instance()\n",
    "    lss = [ls1, ls2, ls3, ls4]\n",
    "    \n",
    "    def __init__(self, datacontainer):\n",
    "        self.data = datacontainer\n",
    "        self.param.pcx.bounds = (1, self.data.no_pca_comps)\n",
    "        self.param.pcy.bounds = (1, self.data.no_pca_comps)\n",
    "        \n",
    "        super().__init__()\n",
    "    \n",
    "    clear_selection_button = pn.widgets.Button(name=\"Clear selection\")\n",
    "    # clear_selection_button.param.watch(clear_selection, 'clicks')\n",
    "\n",
    "    @param.depends(\"clear_selection_button.clicks\", watch=True)\n",
    "    def clear_selection(self):\n",
    "        self.data.current_sel = None\n",
    "    \n",
    "    def get_pca_plot(self, data):\n",
    "        if self.pca_opts.xlabel in data:\n",
    "            return hv.Scatter(data.set_coords(self.pca_opts.xlabel), kdims=[self.pca_opts.xlabel], vdims=[self.pca_opts.ylabel], )\n",
    "        else:\n",
    "            return hv.Scatter([], kdims=[self.pca_opts.xlabel], vdims=[self.pca_opts.ylabel], )\n",
    "    \n",
    "    def plot_pca(self):\n",
    "        return self.ls1(\n",
    "            dynspread(rasterize(hv.DynamicMap(self.get_pca_plot, streams=[self.pca_sel_pipe]))).opts(cmap=\"kbc_r\") *\n",
    "            dynspread(rasterize(hv.DynamicMap(self.get_pca_plot, streams=[self.pca_nonsel_pipe]))).opts(cmap=\"reds\", alpha=0.5)\n",
    "        ).opts(\n",
    "                hv.opts.Scatter(framewise=True, frame_width=int(1*size), frame_height=int(1*size), title=\"PCA\" ),\n",
    "                hv.opts.Points(framewise=True, frame_width=int(1*size), frame_height=int(1*size), title=\"PCA\" ),\n",
    "                hv.opts.Image(framewise=True, frame_width=int(1*size), frame_height=int(1*size), title=\"PCA\" ),\n",
    "                hv.opts.RGB(framewise=True, frame_width=int(1*size), frame_height=int(1*size), title=\"PCA\" ),\n",
    "        ).apply.opts(xlabel=self.pca_opts.param.xlabel, ylabel=self.pca_opts.param.ylabel, \n",
    "                     xlim=self.pca_opts.param.xlim, ylim=self.pca_opts.param.ylim\n",
    "        )\n",
    "     \n",
    "    def plot_tsne(self):\n",
    "        return self.ls2(\n",
    "            dynspread(rasterize(hv.DynamicMap(partial(hv.Scatter, kdims=\"t-SNE component 1\", vdims=\"t-SNE component 2\"), streams=[self.tsne_sel_pipe]))).opts(cmap=\"kbc_r\") *\n",
    "            dynspread(rasterize(hv.DynamicMap(partial(hv.Scatter, kdims=\"t-SNE component 1\", vdims=\"t-SNE component 2\"), streams=[self.tsne_nonsel_pipe]))).opts(cmap=\"reds\", alpha=0.5)\n",
    "        ).opts(\n",
    "            hv.opts.Image(framewise=True, frame_width=int(1*size), frame_height=int(1*size), title=\"t-SNE embedding\", ),\n",
    "            hv.opts.RGB(framewise=True, frame_width=int(1*size), frame_height=int(1*size), title=\"t-SNE embedding\", ),\n",
    "        ).apply.opts(xlim=self.tsne_opts.param.xlim, ylim=self.tsne_opts.param.ylim)\n",
    "    \n",
    "    def plot_umap(self):\n",
    "        return self.ls3(\n",
    "            dynspread(rasterize(hv.DynamicMap(partial(hv.Scatter, kdims=[\"UMAP component 1\"], vdims=[\"UMAP component 2\"]), streams=[self.umap_sel_pipe]))).opts(cmap=\"kbc_r\") *\n",
    "            dynspread(rasterize(hv.DynamicMap(partial(hv.Scatter, kdims=[\"UMAP component 1\"], vdims=[\"UMAP component 2\"]), streams=[self.umap_nonsel_pipe]))).opts(cmap=\"reds\", alpha=0.5)\n",
    "        ).opts(\n",
    "            hv.opts.Image(framewise=True, frame_width=int(1*size), frame_height=int(1*size), title=\"UMAP embedding\", ),\n",
    "            hv.opts.RGB(framewise=True, frame_width=int(1*size), frame_height=int(1*size), title=\"UMAP embedding\", ),\n",
    "        ).apply.opts(xlim=self.umap_opts.param.xlim, ylim=self.umap_opts.param.ylim)\n",
    "    \n",
    "    def plot_sample(self):\n",
    "        return self.ls4(\n",
    "            hv.DynamicMap(partial(hv.Image, kdims=[\"x\", \"y\"], vdims=[\"absorbance\"]), streams=[self.sample_sel_pipe]).opts(cmap=\"kbc_r\") *\n",
    "            hv.DynamicMap(partial(hv.Image, kdims=[\"x\", \"y\"], vdims=[\"absorbance\"]), streams=[self.sample_nonsel_pipe]).opts(cmap=\"reds\", alpha=0.2)\n",
    "        ).opts(\n",
    "            hv.opts.Image(framewise=True, frame_width=int(1*size), frame_height=int(1*size), clipping_colors={\"NaN\": \"transparent\"}, invert_axes=True),\n",
    "        ).apply.opts(\n",
    "            title = self.sample_opts.param.title, aspect=self.sample_opts.param.aspect,\n",
    "            xlim = self.sample_opts.param.xlim, ylim = self.sample_opts.param.ylim, \n",
    "        )\n",
    "    \n",
    "#     @param.depends(\"ls1.selection_expr\", watch=True)\n",
    "    def update_selection1(self):\n",
    "        if self.ls1.selection_expr is not None:\n",
    "            self.update_selection_indices(self.ls1.selection_expr)\n",
    "            \n",
    "            self.ls1.selection_expr = None\n",
    "    \n",
    "    @param.depends(\"ls2.selection_expr\", watch=True)\n",
    "    def update_selection2(self):\n",
    "        if self.ls2.selection_expr is not None:\n",
    "            self.update_selection_indices(self.ls2.selection_expr)\n",
    "            \n",
    "            self.ls2.selection_expr = None\n",
    "            \n",
    "    @param.depends(\"ls3.selection_expr\", watch=True)\n",
    "    def update_selection3(self):\n",
    "        if self.ls3.selection_expr is not None:\n",
    "            self.update_selection_indices(self.ls3.selection_expr)\n",
    "            \n",
    "            self.ls3.selection_expr = None\n",
    "            \n",
    "    @param.depends(\"ls4.selection_expr\", watch=True)\n",
    "    def update_selection4(self):\n",
    "        if self.ls4.selection_expr is not None:\n",
    "            self.update_selection_indices(self.ls4.selection_expr)\n",
    "            \n",
    "            self.ls4.selection_expr = None\n",
    "    \n",
    "    # Implicitly depends on self.data.current_sel\n",
    "    def update_selection_indices(self, selection_expr=None):\n",
    "        # Create boolean array with the current selection indices as True \n",
    "        new_sel_idxs_multi = self.data.eds.select(selection_expr).data.idx.data.astype(\"i,i\")\n",
    "        all_idxs = dc.exrds.idx.data.astype(\"i,i\")\n",
    "        new_sel_bool = np.isin(all_idxs, new_sel_idxs_multi)\n",
    "        \n",
    "        # If no selection has been made yet, set the selection to the current selection\n",
    "        # else get the intersection between the previous and current selection\n",
    "        # N.B. current_sel is in the DataContainer to prevent looping from implicit dependency\n",
    "        if self.data.current_sel is None:\n",
    "            updated_sel = new_sel_bool\n",
    "        else:\n",
    "            updated_sel = np.logical_and(self.data.current_sel, new_sel_bool)\n",
    "        \n",
    "        # Check if the selected indexes have changed, if so update the arrays\n",
    "        # that contain the selections and update the plots\n",
    "        if not np.equal(updated_sel, self.data.current_sel).all():\n",
    "            self.data.current_sel = updated_sel\n",
    "    \n",
    "    @param.depends(\"data.pca_data\", \"data.tsne_data\", \"data.umap_data\", watch=True)\n",
    "    # Implicitly depends on self.data.current_sel\n",
    "    def update_embeddings_pipes(self):\n",
    "        print(\"Updating embeddings\")\n",
    "\n",
    "        data = self.data.exrds.drop([\"absorbance\", \"band\"])\n",
    "        \n",
    "        sel = data.unstack()\n",
    "        if self.data.current_sel is not None:\n",
    "            # Split selected and non-selected data points and send them to the appropriate pipes\n",
    "            sel = data[dict(idx=self.data.current_sel)].unstack()\n",
    "            nonsel = data[dict(idx=~self.data.current_sel)].unstack()\n",
    "        \n",
    "        if self.data.pca_data is None:\n",
    "            pass\n",
    "#             if self.ls.selection_expr is None:\n",
    "#                 self.pca_data_pipe.send([])\n",
    "        else:\n",
    "            pc_names = [f\"PC {i+1}\" for i in range(self.data.pca_data[\"expl_var\"].shape[0])]\n",
    "\n",
    "            self.pca_sel_pipe.send(sel[pc_names])\n",
    "            if self.data.current_sel is None:\n",
    "                self.pca_nonsel_pipe.send([])\n",
    "            else:\n",
    "                self.pca_nonsel_pipe.send(nonsel[pc_names])\n",
    "                \n",
    "            self.pca_opts.xlim = (self.data.exrds[self.pca_opts.xlabel].min().item(), self.data.exrds[self.pca_opts.xlabel].max().item())\n",
    "            self.pca_opts.ylim = (self.data.exrds[self.pca_opts.ylabel].min().item(), self.data.exrds[self.pca_opts.ylabel].max().item())\n",
    "            \n",
    "        if self.data.tsne_data is None:\n",
    "            pass\n",
    "#             if self.ls.selection_expr is None:\n",
    "#                 self.tsne_data_pipe.send([])\n",
    "        else:\n",
    "            tsne_names = [f\"t-SNE component {i+1}\" for i in range(self.data.tsne_data.shape[1])]\n",
    "        \n",
    "            self.tsne_sel_pipe.send(sel[tsne_names].set_coords(\"t-SNE component 1\"))\n",
    "            if self.data.current_sel is None:\n",
    "                self.tsne_nonsel_pipe.send([])\n",
    "            else:\n",
    "                self.tsne_nonsel_pipe.send(nonsel[tsne_names].set_coords(\"t-SNE component 1\"))\n",
    "        \n",
    "            self.tsne_opts.xlim = (self.data.tsne_data[:, 0].min(), self.data.tsne_data[:, 0].max())\n",
    "            self.tsne_opts.ylim = (self.data.tsne_data[:, 1].min(), self.data.tsne_data[:, 1].max())\n",
    "        \n",
    "        if self.data.umap_data is None:\n",
    "            pass\n",
    "#             if self.ls.selection_expr is None:\n",
    "#                 self.umap_sel_pipe.send([])\n",
    "        else:\n",
    "            umap_names = [f\"UMAP component {i+1}\" for i in range(self.data.umap_data.shape[1])]\n",
    "            \n",
    "            self.umap_sel_pipe.send(sel[umap_names].set_coords(\"UMAP component 1\"))\n",
    "            if self.data.current_sel is None:\n",
    "                self.umap_nonsel_pipe.send([])\n",
    "            else:\n",
    "                self.umap_nonsel_pipe.send(nonsel[umap_names].set_coords(\"UMAP component 1\"))\n",
    "\n",
    "            self.umap_opts.xlim = (self.data.umap_data[:, 0].min(), self.data.umap_data[:, 0].max())\n",
    "            self.umap_opts.ylim = (self.data.umap_data[:, 1].min(), self.data.umap_data[:, 1].max())     \n",
    "            \n",
    "    @param.depends(\"data.sel_data\", \"data.band\", \"data.current_sel\", watch=True)\n",
    "    def update_sample_pipe(self):\n",
    "        if \"absorbance\" in self.data.exrds:\n",
    "            data = self.data.exrds.sel(band=self.data.band)\n",
    "            \n",
    "            sel = data.absorbance.unstack()\n",
    "            nonsel = []\n",
    "            if self.data.current_sel is not None:\n",
    "                # Split selected and non-selected data points and send them to the appropriate pipes\n",
    "                sel = data.where(self.data.current_sel).absorbance.unstack()\n",
    "                nonsel = data.where(~self.data.current_sel).absorbance.unstack()\n",
    "            \n",
    "            self.sample_opts.title = f\"Absorbance at {self.data.band} cm⁻¹\"\n",
    "            self.sample_opts.aspect = \"equal\"\n",
    "            self.sample_opts.xlim = (data.x.min().item(), data.x.max().item())\n",
    "            self.sample_opts.ylim = (data.y.min().item(), data.y.max().item())\n",
    "\n",
    "            self.sample_sel_pipe.send(sel)\n",
    "            self.sample_nonsel_pipe.send(nonsel)\n",
    "\n",
    "        else:\n",
    "            self.sample_sel_pipe.send([])\n",
    "            self.sample_nonsel_pipe.send([])\n",
    "    \n",
    "    def view(self):\n",
    "        pcx = pn.widgets.IntInput.from_param(self.param.pcx, name=\"Plot PC on x-axis\")\n",
    "        pcy = pn.widgets.IntInput.from_param(self.param.pcy, name=\"Plot PC on y-axis\")\n",
    "        \n",
    "        return (\n",
    "                pn.Column(\n",
    "                pn.Row(pcx, pcy),\n",
    "                self.clear_selection_button,\n",
    "                hv.Layout([\n",
    "                    self.plot_tsne(),\n",
    "                    self.plot_umap(),\n",
    "                    self.plot_pca(),\n",
    "                ]).cols(3).opts(shared_axes=False),\n",
    "                self.plot_sample()\n",
    "            )\n",
    "        )\n",
    "    \n",
    "        \n",
    "dc = DataContainer()\n",
    "dc_view = dc.view()\n",
    "\n",
    "rs = RegionSelection(dc)\n",
    "rs_view = rs.view()\n",
    "\n",
    "ep = EmbeddingsProducer(dc)\n",
    "ep_view = ep.view()\n",
    "\n",
    "ed = ExplorationDashboard(dc)\n",
    "ed_view = ed.view()\n",
    "\n",
    "pn.Column(\n",
    "    dc_view,\n",
    "    rs_view,\n",
    "    ep_view,\n",
    "    ed_view,\n",
    ")"
   ]
  },
  {
   "cell_type": "markdown",
   "metadata": {},
   "source": [
    "#### Dashboard bottom"
   ]
  },
  {
   "cell_type": "code",
   "execution_count": null,
   "metadata": {
    "ExecuteTime": {
     "end_time": "2021-11-07T22:57:46.413268Z",
     "start_time": "2021-11-07T22:57:46.363067Z"
    }
   },
   "outputs": [],
   "source": [
    "dc.eds.select(ed.ls1.selection_expr)"
   ]
  },
  {
   "cell_type": "code",
   "execution_count": null,
   "metadata": {
    "ExecuteTime": {
     "end_time": "2021-11-07T22:56:38.947681Z",
     "start_time": "2021-11-07T22:56:38.926922Z"
    }
   },
   "outputs": [],
   "source": [
    "ed.ls1.selection_expr"
   ]
  },
  {
   "cell_type": "code",
   "execution_count": null,
   "metadata": {
    "ExecuteTime": {
     "end_time": "2021-11-07T22:52:33.195673Z",
     "start_time": "2021-11-07T22:52:32.979462Z"
    }
   },
   "outputs": [],
   "source": [
    "ed.update_sample_pipe()"
   ]
  },
  {
   "cell_type": "code",
   "execution_count": null,
   "metadata": {
    "ExecuteTime": {
     "end_time": "2021-11-07T22:52:33.211688Z",
     "start_time": "2021-11-07T22:52:33.196674Z"
    }
   },
   "outputs": [],
   "source": [
    "dc.sel_plot_opts.param.xlim."
   ]
  },
  {
   "cell_type": "code",
   "execution_count": null,
   "metadata": {
    "ExecuteTime": {
     "end_time": "2021-11-07T22:52:33.215691Z",
     "start_time": "2021-11-07T22:52:33.215691Z"
    }
   },
   "outputs": [],
   "source": [
    "dc.current_sel"
   ]
  },
  {
   "cell_type": "code",
   "execution_count": null,
   "metadata": {
    "ExecuteTime": {
     "end_time": "2021-11-07T22:52:33.216692Z",
     "start_time": "2021-11-07T22:52:33.216692Z"
    }
   },
   "outputs": [],
   "source": [
    "dc.exrds.sel(band=1536).where(~dc.current_sel)"
   ]
  },
  {
   "cell_type": "code",
   "execution_count": null,
   "metadata": {
    "ExecuteTime": {
     "end_time": "2021-11-07T22:52:33.216692Z",
     "start_time": "2021-11-07T22:52:33.216692Z"
    }
   },
   "outputs": [],
   "source": [
    "data = dc.exrds.sel(band=1536).where(~dc.current_sel).unstack()\n",
    "hv.Image(data, [\"x\", \"y\"], \"absorbance\")"
   ]
  },
  {
   "cell_type": "code",
   "execution_count": null,
   "metadata": {
    "ExecuteTime": {
     "end_time": "2021-11-07T22:52:33.217694Z",
     "start_time": "2021-11-07T22:52:33.217694Z"
    }
   },
   "outputs": [],
   "source": [
    "hv.Image(dc.current_sel.reshape(dc.sel_data.shape[:2]))"
   ]
  },
  {
   "cell_type": "code",
   "execution_count": null,
   "metadata": {
    "ExecuteTime": {
     "end_time": "2021-11-07T22:52:33.218694Z",
     "start_time": "2021-11-07T22:52:33.218694Z"
    }
   },
   "outputs": [],
   "source": [
    "ed.ls1"
   ]
  },
  {
   "cell_type": "code",
   "execution_count": null,
   "metadata": {
    "ExecuteTime": {
     "end_time": "2021-11-07T22:52:33.218694Z",
     "start_time": "2021-11-07T22:52:33.218694Z"
    }
   },
   "outputs": [],
   "source": [
    "ed.ls1.selection_expr"
   ]
  },
  {
   "cell_type": "code",
   "execution_count": null,
   "metadata": {
    "ExecuteTime": {
     "end_time": "2021-11-07T22:52:33.219695Z",
     "start_time": "2021-11-07T22:52:33.219695Z"
    }
   },
   "outputs": [],
   "source": [
    "x = dc.exrds.stack(idx=[\"x\", \"y\"])\n",
    "y = hv.Dataset(x, [\"idx\", \"band\"])"
   ]
  },
  {
   "cell_type": "code",
   "execution_count": null,
   "metadata": {
    "ExecuteTime": {
     "end_time": "2021-11-07T22:52:33.220695Z",
     "start_time": "2021-11-07T22:52:33.220695Z"
    }
   },
   "outputs": [],
   "source": [
    "x"
   ]
  },
  {
   "cell_type": "code",
   "execution_count": null,
   "metadata": {
    "ExecuteTime": {
     "end_time": "2021-11-07T22:52:33.220695Z",
     "start_time": "2021-11-07T22:52:33.220695Z"
    }
   },
   "outputs": [],
   "source": [
    "y.select(ed.ls1.selection_expr)"
   ]
  },
  {
   "cell_type": "code",
   "execution_count": null,
   "metadata": {
    "ExecuteTime": {
     "end_time": "2021-11-07T22:52:33.221697Z",
     "start_time": "2021-11-07T22:52:33.221697Z"
    },
    "scrolled": false
   },
   "outputs": [],
   "source": [
    "z = y.select(ed.ls1.selection_expr)"
   ]
  },
  {
   "cell_type": "code",
   "execution_count": null,
   "metadata": {
    "ExecuteTime": {
     "end_time": "2021-11-07T22:52:33.222698Z",
     "start_time": "2021-11-07T22:52:33.222698Z"
    }
   },
   "outputs": [],
   "source": [
    "x.idx.data"
   ]
  },
  {
   "cell_type": "code",
   "execution_count": null,
   "metadata": {
    "ExecuteTime": {
     "end_time": "2021-11-07T22:52:33.223700Z",
     "start_time": "2021-11-07T22:52:33.223700Z"
    }
   },
   "outputs": [],
   "source": [
    "np.isin(x.idx.data, z.data.idx.data)"
   ]
  },
  {
   "cell_type": "code",
   "execution_count": null,
   "metadata": {
    "ExecuteTime": {
     "end_time": "2021-11-07T22:52:33.223700Z",
     "start_time": "2021-11-07T22:52:33.223700Z"
    }
   },
   "outputs": [],
   "source": [
    "np.array([(92, 60), (95, 17)])"
   ]
  },
  {
   "cell_type": "code",
   "execution_count": null,
   "metadata": {
    "ExecuteTime": {
     "end_time": "2021-11-07T22:52:33.224699Z",
     "start_time": "2021-11-07T22:52:33.224699Z"
    }
   },
   "outputs": [],
   "source": [
    "si = z.data.idx.data.astype(\"i,i\")\n",
    "ai = dc.exrds.stack(idx=[\"x\", \"y\"]).idx.data.astype(\"i,i\")"
   ]
  },
  {
   "cell_type": "code",
   "execution_count": null,
   "metadata": {
    "ExecuteTime": {
     "end_time": "2021-11-07T22:52:33.224699Z",
     "start_time": "2021-11-07T22:52:33.224699Z"
    }
   },
   "outputs": [],
   "source": [
    "np.isin(ai, si)"
   ]
  },
  {
   "cell_type": "code",
   "execution_count": null,
   "metadata": {
    "ExecuteTime": {
     "end_time": "2021-11-07T22:52:33.225701Z",
     "start_time": "2021-11-07T22:52:33.225701Z"
    }
   },
   "outputs": [],
   "source": [
    "np.where(np.isin(ai, si))"
   ]
  },
  {
   "cell_type": "code",
   "execution_count": null,
   "metadata": {
    "ExecuteTime": {
     "end_time": "2021-11-07T22:52:33.226701Z",
     "start_time": "2021-11-07T22:52:33.226701Z"
    }
   },
   "outputs": [],
   "source": [
    "s.unstack()"
   ]
  },
  {
   "cell_type": "code",
   "execution_count": null,
   "metadata": {
    "ExecuteTime": {
     "end_time": "2021-11-07T22:52:33.227703Z",
     "start_time": "2021-11-07T22:52:33.227703Z"
    }
   },
   "outputs": [],
   "source": [
    "x.where(z.data)"
   ]
  },
  {
   "cell_type": "code",
   "execution_count": null,
   "metadata": {
    "ExecuteTime": {
     "end_time": "2021-11-07T22:52:33.227703Z",
     "start_time": "2021-11-07T22:52:33.227703Z"
    }
   },
   "outputs": [],
   "source": [
    "ai"
   ]
  },
  {
   "cell_type": "code",
   "execution_count": null,
   "metadata": {
    "ExecuteTime": {
     "end_time": "2021-11-07T22:52:33.228703Z",
     "start_time": "2021-11-07T22:52:33.228703Z"
    }
   },
   "outputs": [],
   "source": [
    "si"
   ]
  },
  {
   "cell_type": "code",
   "execution_count": null,
   "metadata": {
    "ExecuteTime": {
     "end_time": "2021-11-07T22:52:33.229705Z",
     "start_time": "2021-11-07T22:52:33.229705Z"
    }
   },
   "outputs": [],
   "source": [
    "np.isin(ai, si).all(1).shape"
   ]
  },
  {
   "cell_type": "code",
   "execution_count": null,
   "metadata": {
    "ExecuteTime": {
     "end_time": "2021-11-07T22:52:33.229705Z",
     "start_time": "2021-11-07T22:52:33.229705Z"
    }
   },
   "outputs": [],
   "source": [
    "dc.eds[.]"
   ]
  },
  {
   "cell_type": "code",
   "execution_count": null,
   "metadata": {
    "ExecuteTime": {
     "end_time": "2021-11-07T22:52:33.230705Z",
     "start_time": "2021-11-07T22:52:33.230705Z"
    }
   },
   "outputs": [],
   "source": [
    "dc.eds.select(ed.ls1.selection_expr)"
   ]
  },
  {
   "cell_type": "code",
   "execution_count": null,
   "metadata": {
    "ExecuteTime": {
     "end_time": "2021-11-07T22:52:33.231706Z",
     "start_time": "2021-11-07T22:52:33.231706Z"
    }
   },
   "outputs": [],
   "source": [
    "data"
   ]
  },
  {
   "cell_type": "code",
   "execution_count": null,
   "metadata": {},
   "outputs": [],
   "source": []
  },
  {
   "cell_type": "code",
   "execution_count": null,
   "metadata": {
    "ExecuteTime": {
     "end_time": "2021-11-07T22:52:33.231706Z",
     "start_time": "2021-11-07T22:52:33.231706Z"
    }
   },
   "outputs": [],
   "source": [
    "data = ed.data.exrds.drop([\"absorbance\", \"band\"]).stack(idx=(\"x\", \"y\"))\n",
    "pc_names = [f\"PC {i+1}\" for i in range(ed.data.pca_data[\"expl_var\"].shape[0])]\n",
    "\n",
    "# self.pca_sel_pipe.send(sel[pc_names])\n",
    "data[dict(idx=np.repeat(True, len(data.idx)))].unstack()[pc_names]"
   ]
  },
  {
   "cell_type": "code",
   "execution_count": null,
   "metadata": {
    "ExecuteTime": {
     "end_time": "2021-11-07T22:52:33.232707Z",
     "start_time": "2021-11-07T22:52:33.232707Z"
    }
   },
   "outputs": [],
   "source": [
    "dc.exrds[a]"
   ]
  },
  {
   "cell_type": "code",
   "execution_count": null,
   "metadata": {
    "ExecuteTime": {
     "end_time": "2021-11-07T22:52:33.233708Z",
     "start_time": "2021-11-07T22:52:33.233708Z"
    }
   },
   "outputs": [],
   "source": [
    "ds = dc.exrds[[\"UMAP component 1\", \"UMAP component 2\"]]\n",
    "ds"
   ]
  },
  {
   "cell_type": "code",
   "execution_count": null,
   "metadata": {
    "ExecuteTime": {
     "end_time": "2021-11-07T22:52:33.233708Z",
     "start_time": "2021-11-07T22:52:33.233708Z"
    }
   },
   "outputs": [],
   "source": [
    "rasterize(hv.Scatter(ds.set_coords(\"UMAP component 1\"), \"UMAP component 1\", \"UMAP component 2\"))"
   ]
  },
  {
   "cell_type": "code",
   "execution_count": null,
   "metadata": {
    "ExecuteTime": {
     "end_time": "2021-11-07T22:52:33.234709Z",
     "start_time": "2021-11-07T22:52:33.234709Z"
    }
   },
   "outputs": [],
   "source": [
    "data = ed.data.exrds.absorbance.sel(band=ed.data.band).stack(idx=(\"x\", \"y\"))"
   ]
  },
  {
   "cell_type": "code",
   "execution_count": null,
   "metadata": {
    "ExecuteTime": {
     "end_time": "2021-11-07T22:52:33.235710Z",
     "start_time": "2021-11-07T22:52:33.235710Z"
    }
   },
   "outputs": [],
   "source": [
    "ed.data.embedding_data[[\"x\", \"y\", \"abs_1536\"]]"
   ]
  },
  {
   "cell_type": "code",
   "execution_count": null,
   "metadata": {
    "ExecuteTime": {
     "end_time": "2021-11-07T22:52:33.235710Z",
     "start_time": "2021-11-07T22:52:33.235710Z"
    }
   },
   "outputs": [],
   "source": [
    "data.unstack()[t]"
   ]
  },
  {
   "cell_type": "code",
   "execution_count": null,
   "metadata": {
    "ExecuteTime": {
     "end_time": "2021-11-07T22:52:33.236711Z",
     "start_time": "2021-11-07T22:52:33.236711Z"
    }
   },
   "outputs": [],
   "source": [
    "dc.embedding_data"
   ]
  },
  {
   "cell_type": "code",
   "execution_count": null,
   "metadata": {
    "ExecuteTime": {
     "end_time": "2021-11-07T22:52:33.237712Z",
     "start_time": "2021-11-07T22:52:33.237712Z"
    }
   },
   "outputs": [],
   "source": [
    "t = np.isin(np.arange(ed.data.embedding_data.index.stop), ed.test)"
   ]
  },
  {
   "cell_type": "code",
   "execution_count": null,
   "metadata": {
    "ExecuteTime": {
     "end_time": "2021-11-07T22:52:33.238713Z",
     "start_time": "2021-11-07T22:52:33.238713Z"
    }
   },
   "outputs": [],
   "source": [
    "ed.data.embedding_data[np.isin(np.arange(ed.data.embedding_data.index.stop), ed.test)]"
   ]
  },
  {
   "cell_type": "code",
   "execution_count": null,
   "metadata": {
    "ExecuteTime": {
     "end_time": "2021-11-07T22:52:33.238713Z",
     "start_time": "2021-11-07T22:52:33.238713Z"
    }
   },
   "outputs": [],
   "source": [
    "ed.data.embedding_data[ed.data.embedding_data[\"idx\"].isin(ed.test)]"
   ]
  },
  {
   "cell_type": "code",
   "execution_count": null,
   "metadata": {
    "ExecuteTime": {
     "end_time": "2021-11-07T22:52:33.239714Z",
     "start_time": "2021-11-07T22:52:33.239714Z"
    }
   },
   "outputs": [],
   "source": [
    "hv.Image(data.unstack(\"idx\"), [\"x\", \"y\"], \"absorbance\")[np.isin(np.arange(ed.data.embedding_data.index.stop), ed.test)]"
   ]
  },
  {
   "cell_type": "code",
   "execution_count": null,
   "metadata": {
    "ExecuteTime": {
     "end_time": "2021-11-07T22:52:33.239714Z",
     "start_time": "2021-11-07T22:52:33.239714Z"
    }
   },
   "outputs": [],
   "source": [
    "data[np.isin(np.arange(ed.data.embedding_data.index.stop), ed.test)]"
   ]
  },
  {
   "cell_type": "code",
   "execution_count": null,
   "metadata": {
    "ExecuteTime": {
     "end_time": "2021-11-07T22:52:33.240715Z",
     "start_time": "2021-11-07T22:52:33.240715Z"
    }
   },
   "outputs": [],
   "source": [
    "data.where(data[\"idx\"].isin(ed.test2)).unstack(\"idx\")"
   ]
  },
  {
   "cell_type": "code",
   "execution_count": null,
   "metadata": {
    "ExecuteTime": {
     "end_time": "2021-11-07T22:52:33.241715Z",
     "start_time": "2021-11-07T22:52:33.241715Z"
    }
   },
   "outputs": [],
   "source": [
    "ed.test"
   ]
  },
  {
   "cell_type": "code",
   "execution_count": null,
   "metadata": {
    "ExecuteTime": {
     "end_time": "2021-11-07T22:52:33.241715Z",
     "start_time": "2021-11-07T22:52:33.241715Z"
    }
   },
   "outputs": [],
   "source": [
    "ed.sel_idxs = ed.test"
   ]
  },
  {
   "cell_type": "code",
   "execution_count": null,
   "metadata": {
    "ExecuteTime": {
     "end_time": "2021-11-07T22:52:33.242716Z",
     "start_time": "2021-11-07T22:52:33.242716Z"
    }
   },
   "outputs": [],
   "source": [
    "ed.sel_idxs"
   ]
  },
  {
   "cell_type": "code",
   "execution_count": null,
   "metadata": {
    "ExecuteTime": {
     "end_time": "2021-11-07T22:52:33.243716Z",
     "start_time": "2021-11-07T22:52:33.243716Z"
    }
   },
   "outputs": [],
   "source": [
    "ed.test"
   ]
  },
  {
   "cell_type": "code",
   "execution_count": null,
   "metadata": {
    "ExecuteTime": {
     "end_time": "2021-11-07T22:52:33.244719Z",
     "start_time": "2021-11-07T22:52:33.244719Z"
    }
   },
   "outputs": [],
   "source": [
    "dc.eds.select(ed.ls1.selection_expr).data.index"
   ]
  },
  {
   "cell_type": "code",
   "execution_count": null,
   "metadata": {
    "ExecuteTime": {
     "end_time": "2021-11-07T22:52:33.244719Z",
     "start_time": "2021-11-07T22:52:33.244719Z"
    }
   },
   "outputs": [],
   "source": [
    "ed.lss"
   ]
  },
  {
   "cell_type": "code",
   "execution_count": null,
   "metadata": {
    "ExecuteTime": {
     "end_time": "2021-11-07T22:52:33.245719Z",
     "start_time": "2021-11-07T22:52:33.245719Z"
    }
   },
   "outputs": [],
   "source": [
    "ed.sel_idxs"
   ]
  },
  {
   "cell_type": "code",
   "execution_count": null,
   "metadata": {
    "ExecuteTime": {
     "end_time": "2021-11-07T22:52:33.245719Z",
     "start_time": "2021-11-07T22:52:33.245719Z"
    }
   },
   "outputs": [],
   "source": [
    "f = rasterize(hv.Scatter(dc.embedding_data, \"UMAP component 1\", \"UMAP component 2\")).opts(tools=[\"box_select\"])\n",
    "sel = hv.streams.Selection1D(source=f)\n",
    "f"
   ]
  },
  {
   "cell_type": "code",
   "execution_count": null,
   "metadata": {
    "ExecuteTime": {
     "end_time": "2021-11-07T22:52:33.246720Z",
     "start_time": "2021-11-07T22:52:33.246720Z"
    }
   },
   "outputs": [],
   "source": [
    "sel"
   ]
  },
  {
   "cell_type": "code",
   "execution_count": null,
   "metadata": {
    "ExecuteTime": {
     "end_time": "2021-11-07T22:52:33.247720Z",
     "start_time": "2021-11-07T22:52:33.247720Z"
    }
   },
   "outputs": [],
   "source": [
    "dc.sel_plot_opts"
   ]
  },
  {
   "cell_type": "code",
   "execution_count": null,
   "metadata": {
    "ExecuteTime": {
     "end_time": "2021-11-07T22:52:33.248722Z",
     "start_time": "2021-11-07T22:52:33.248722Z"
    }
   },
   "outputs": [],
   "source": [
    "dc.exrds"
   ]
  },
  {
   "cell_type": "code",
   "execution_count": null,
   "metadata": {
    "ExecuteTime": {
     "end_time": "2021-11-07T22:52:33.248722Z",
     "start_time": "2021-11-07T22:52:33.248722Z"
    }
   },
   "outputs": [],
   "source": [
    "data.stack(idx=(\"x\", \"y\"))"
   ]
  },
  {
   "cell_type": "code",
   "execution_count": null,
   "metadata": {
    "ExecuteTime": {
     "end_time": "2021-11-07T22:52:33.249722Z",
     "start_time": "2021-11-07T22:52:33.249722Z"
    }
   },
   "outputs": [],
   "source": [
    "ed.sel_idxs"
   ]
  },
  {
   "cell_type": "code",
   "execution_count": null,
   "metadata": {
    "ExecuteTime": {
     "end_time": "2021-11-07T22:52:33.249722Z",
     "start_time": "2021-11-07T22:52:33.249722Z"
    }
   },
   "outputs": [],
   "source": [
    "ds = ed.data.exrds.absorbance.stack(idx=(\"x\", \"y\"))\n",
    "data;\n",
    "sel = ds.where(ds[\"idx\"].isin(ed.sel_idxs)).unstack(\"idx\")\n",
    "sel"
   ]
  },
  {
   "cell_type": "code",
   "execution_count": null,
   "metadata": {
    "ExecuteTime": {
     "end_time": "2021-11-07T22:52:33.250724Z",
     "start_time": "2021-11-07T22:52:33.250724Z"
    }
   },
   "outputs": [],
   "source": [
    "hv.Image(dc.exrds.sel(band=690), [\"x\", \"y\"], \"absorbance\")"
   ]
  },
  {
   "cell_type": "code",
   "execution_count": null,
   "metadata": {
    "ExecuteTime": {
     "end_time": "2021-11-07T22:52:33.251725Z",
     "start_time": "2021-11-07T22:52:33.251725Z"
    }
   },
   "outputs": [],
   "source": [
    "xys = np.array([xy[idx] for idx in ed.sel_idxs])\n",
    "xys"
   ]
  },
  {
   "cell_type": "code",
   "execution_count": null,
   "metadata": {
    "ExecuteTime": {
     "end_time": "2021-11-07T22:52:33.251725Z",
     "start_time": "2021-11-07T22:52:33.251725Z"
    }
   },
   "outputs": [],
   "source": [
    "x = [x % dc.all_data.shape[1] for x in range(np.product(dc.all_data.shape[:2]))]\n",
    "y = [int(np.floor(y / dc.all_data.shape[1])) for y in range(np.product(dc.all_data.shape[:2]))]\n",
    "xy = np.stack([x, y]).T"
   ]
  },
  {
   "cell_type": "code",
   "execution_count": null,
   "metadata": {
    "ExecuteTime": {
     "end_time": "2021-11-07T22:52:33.252726Z",
     "start_time": "2021-11-07T22:52:33.252726Z"
    }
   },
   "outputs": [],
   "source": [
    "dc.exrds[\"idx\"].isin(ed.sel_idxs)"
   ]
  },
  {
   "cell_type": "code",
   "execution_count": null,
   "metadata": {
    "ExecuteTime": {
     "end_time": "2021-11-07T22:52:33.253727Z",
     "start_time": "2021-11-07T22:52:33.253727Z"
    }
   },
   "outputs": [],
   "source": [
    "sl = hv.link_selections.instance()"
   ]
  },
  {
   "cell_type": "code",
   "execution_count": null,
   "metadata": {
    "ExecuteTime": {
     "end_time": "2021-11-07T22:52:33.253727Z",
     "start_time": "2021-11-07T22:52:33.253727Z"
    }
   },
   "outputs": [],
   "source": [
    "sl.selection_expr = None"
   ]
  },
  {
   "cell_type": "code",
   "execution_count": null,
   "metadata": {
    "ExecuteTime": {
     "end_time": "2021-11-07T22:52:33.254728Z",
     "start_time": "2021-11-07T22:52:33.254728Z"
    }
   },
   "outputs": [],
   "source": [
    "sl((hv.Image(dc.exrds.sel(band=1536), [\"x\", \"y\"], \"absorbance\")))"
   ]
  },
  {
   "cell_type": "code",
   "execution_count": null,
   "metadata": {
    "ExecuteTime": {
     "end_time": "2021-11-07T22:52:33.255728Z",
     "start_time": "2021-11-07T22:52:33.255728Z"
    }
   },
   "outputs": [],
   "source": [
    "sl"
   ]
  },
  {
   "cell_type": "code",
   "execution_count": null,
   "metadata": {
    "ExecuteTime": {
     "end_time": "2021-11-07T22:52:33.255728Z",
     "start_time": "2021-11-07T22:52:33.255728Z"
    }
   },
   "outputs": [],
   "source": [
    "sl(rasterize(hv.Scatter((dc.exrds[\"PC 1\"], dc.exrds[\"PC 2\"]), \"PC 1\", \"PC 2\")))"
   ]
  },
  {
   "cell_type": "code",
   "execution_count": null,
   "metadata": {
    "ExecuteTime": {
     "end_time": "2021-11-07T22:52:33.256729Z",
     "start_time": "2021-11-07T22:52:33.256729Z"
    }
   },
   "outputs": [],
   "source": [
    "sl;"
   ]
  },
  {
   "cell_type": "code",
   "execution_count": null,
   "metadata": {
    "ExecuteTime": {
     "end_time": "2021-11-07T22:52:33.257731Z",
     "start_time": "2021-11-07T22:52:33.257731Z"
    }
   },
   "outputs": [],
   "source": [
    "dc.eds.data.x"
   ]
  },
  {
   "cell_type": "code",
   "execution_count": null,
   "metadata": {
    "ExecuteTime": {
     "end_time": "2021-11-07T22:52:33.257731Z",
     "start_time": "2021-11-07T22:52:33.257731Z"
    }
   },
   "outputs": [],
   "source": [
    "dc.eds.select(sl.selection_expr).data.idx"
   ]
  },
  {
   "cell_type": "code",
   "execution_count": null,
   "metadata": {
    "ExecuteTime": {
     "end_time": "2021-11-07T22:52:33.258731Z",
     "start_time": "2021-11-07T22:52:33.258731Z"
    }
   },
   "outputs": [],
   "source": [
    "dc.exrds"
   ]
  },
  {
   "cell_type": "code",
   "execution_count": null,
   "metadata": {
    "ExecuteTime": {
     "end_time": "2021-11-07T22:52:33.259732Z",
     "start_time": "2021-11-07T22:52:33.259732Z"
    }
   },
   "outputs": [],
   "source": [
    "hv.Image(dc.exrds.stack(idx=(\"x\", \"y\")).where(dc.exrds[\"idx\"].isin(ed.sel_idxs)).unstack(\"idx\").sel(band=1536), [\"x\", \"y\"], \"absorbance\")"
   ]
  },
  {
   "cell_type": "code",
   "execution_count": null,
   "metadata": {
    "ExecuteTime": {
     "end_time": "2021-11-07T22:52:33.259732Z",
     "start_time": "2021-11-07T22:52:33.259732Z"
    }
   },
   "outputs": [],
   "source": [
    "sel = self.data.embedding_data[self.data.embedding_data[\"idx\"].isin(self.sel_idxs)]"
   ]
  },
  {
   "cell_type": "code",
   "execution_count": null,
   "metadata": {
    "ExecuteTime": {
     "end_time": "2021-11-07T22:52:33.260732Z",
     "start_time": "2021-11-07T22:52:33.260732Z"
    }
   },
   "outputs": [],
   "source": [
    "dat = deepcopy(dc.exrds)"
   ]
  },
  {
   "cell_type": "code",
   "execution_count": null,
   "metadata": {
    "ExecuteTime": {
     "end_time": "2021-11-07T22:52:33.261733Z",
     "start_time": "2021-11-07T22:52:33.261733Z"
    }
   },
   "outputs": [],
   "source": [
    "dc.umap_data"
   ]
  },
  {
   "cell_type": "code",
   "execution_count": null,
   "metadata": {
    "ExecuteTime": {
     "end_time": "2021-11-07T22:52:33.261733Z",
     "start_time": "2021-11-07T22:52:33.261733Z"
    }
   },
   "outputs": [],
   "source": [
    "dc.umap_data[:,0]"
   ]
  },
  {
   "cell_type": "code",
   "execution_count": null,
   "metadata": {
    "ExecuteTime": {
     "end_time": "2021-11-07T22:52:33.262734Z",
     "start_time": "2021-11-07T22:52:33.262734Z"
    }
   },
   "outputs": [],
   "source": [
    "dat = dat.assign(UMAP=([\"idx\", \"comp1\", \"comp2\"], np.ones(dc.umap_data.shape)))"
   ]
  },
  {
   "cell_type": "code",
   "execution_count": null,
   "metadata": {
    "ExecuteTime": {
     "end_time": "2021-11-07T22:52:33.263735Z",
     "start_time": "2021-11-07T22:52:33.263735Z"
    }
   },
   "outputs": [],
   "source": [
    "dat = dat.stack(idx=(\"x\", \"y\"))"
   ]
  },
  {
   "cell_type": "code",
   "execution_count": null,
   "metadata": {
    "ExecuteTime": {
     "end_time": "2021-11-07T22:52:33.264736Z",
     "start_time": "2021-11-07T22:52:33.264736Z"
    }
   },
   "outputs": [],
   "source": [
    "dat"
   ]
  },
  {
   "cell_type": "code",
   "execution_count": null,
   "metadata": {
    "ExecuteTime": {
     "end_time": "2021-11-07T22:52:33.264736Z",
     "start_time": "2021-11-07T22:52:33.264736Z"
    }
   },
   "outputs": [],
   "source": [
    "hv.Image(dat, [\"idx\", \"comp\"], \"UMAP\")"
   ]
  },
  {
   "cell_type": "code",
   "execution_count": null,
   "metadata": {
    "ExecuteTime": {
     "end_time": "2021-11-07T22:52:33.265737Z",
     "start_time": "2021-11-07T22:52:33.265737Z"
    }
   },
   "outputs": [],
   "source": [
    "sl(rasterize(hv.Scatter(dat.UMAP.data)))"
   ]
  },
  {
   "cell_type": "code",
   "execution_count": null,
   "metadata": {
    "ExecuteTime": {
     "end_time": "2021-11-07T22:52:33.266738Z",
     "start_time": "2021-11-07T22:52:33.266738Z"
    }
   },
   "outputs": [],
   "source": [
    "sl"
   ]
  },
  {
   "cell_type": "code",
   "execution_count": null,
   "metadata": {
    "ExecuteTime": {
     "end_time": "2021-11-07T22:52:33.266738Z",
     "start_time": "2021-11-07T22:52:33.266738Z"
    }
   },
   "outputs": [],
   "source": [
    "rasterize(hv.Scatter(dat.UMAP))"
   ]
  },
  {
   "cell_type": "code",
   "execution_count": null,
   "metadata": {
    "ExecuteTime": {
     "end_time": "2021-11-07T22:52:33.267738Z",
     "start_time": "2021-11-07T22:52:33.267738Z"
    }
   },
   "outputs": [],
   "source": [
    "dat"
   ]
  },
  {
   "cell_type": "code",
   "execution_count": null,
   "metadata": {
    "ExecuteTime": {
     "end_time": "2021-11-07T22:52:33.268740Z",
     "start_time": "2021-11-07T22:52:33.268740Z"
    }
   },
   "outputs": [],
   "source": [
    "a = dc.exrds.sel(band=1536)\n",
    "a"
   ]
  },
  {
   "cell_type": "code",
   "execution_count": null,
   "metadata": {
    "ExecuteTime": {
     "end_time": "2021-11-07T22:52:33.268740Z",
     "start_time": "2021-11-07T22:52:33.268740Z"
    }
   },
   "outputs": [],
   "source": [
    "a.absorbance.shape"
   ]
  },
  {
   "cell_type": "code",
   "execution_count": null,
   "metadata": {
    "ExecuteTime": {
     "end_time": "2021-11-07T22:52:33.269741Z",
     "start_time": "2021-11-07T22:52:33.269741Z"
    }
   },
   "outputs": [],
   "source": [
    "ed.sel_idxs"
   ]
  },
  {
   "cell_type": "code",
   "execution_count": null,
   "metadata": {
    "ExecuteTime": {
     "end_time": "2021-11-07T22:52:33.270742Z",
     "start_time": "2021-11-07T22:52:33.269741Z"
    }
   },
   "outputs": [],
   "source": [
    "np.isin(np.arange(ed.data.embedding_data.index.stop), ed.sel_idxs)"
   ]
  },
  {
   "cell_type": "code",
   "execution_count": null,
   "metadata": {
    "ExecuteTime": {
     "end_time": "2021-11-07T22:52:33.270742Z",
     "start_time": "2021-11-07T22:52:33.270742Z"
    }
   },
   "outputs": [],
   "source": [
    "selected_indexes_bool = np.isin(np.arange(ed.data.embedding_data.index.stop), ed.sel_idxs)\n",
    "sib_reshaped = selected_indexes_bool.reshape(a.x.max().data+1, a.y.max().data+1)"
   ]
  },
  {
   "cell_type": "code",
   "execution_count": null,
   "metadata": {
    "ExecuteTime": {
     "end_time": "2021-11-07T22:52:33.271743Z",
     "start_time": "2021-11-07T22:52:33.271743Z"
    }
   },
   "outputs": [],
   "source": [
    "sib_reshaped.shape"
   ]
  },
  {
   "cell_type": "code",
   "execution_count": null,
   "metadata": {
    "ExecuteTime": {
     "end_time": "2021-11-07T22:52:33.271743Z",
     "start_time": "2021-11-07T22:52:33.271743Z"
    }
   },
   "outputs": [],
   "source": [
    "xr.DataArray(data=sib_reshaped, dims=[\"x\", \"y\"])"
   ]
  },
  {
   "cell_type": "code",
   "execution_count": null,
   "metadata": {
    "ExecuteTime": {
     "end_time": "2021-11-07T22:52:33.272743Z",
     "start_time": "2021-11-07T22:52:33.272743Z"
    }
   },
   "outputs": [],
   "source": [
    "a.absorbance.where(xr.DataArray(data=sib_reshaped, dims=[\"x\", \"y\"]))"
   ]
  },
  {
   "cell_type": "code",
   "execution_count": null,
   "metadata": {
    "ExecuteTime": {
     "end_time": "2021-11-07T22:52:33.273745Z",
     "start_time": "2021-11-07T22:52:33.273745Z"
    },
    "scrolled": true
   },
   "outputs": [],
   "source": [
    "hv.Image(a.absorbance.where(xr.DataArray(data=sib_reshaped, dims=[\"x\", \"y\"])), [\"x\", \"y\"], \"absorbance\")"
   ]
  },
  {
   "cell_type": "code",
   "execution_count": null,
   "metadata": {
    "ExecuteTime": {
     "end_time": "2021-11-07T22:52:33.273745Z",
     "start_time": "2021-11-07T22:52:33.273745Z"
    }
   },
   "outputs": [],
   "source": [
    "hv.Image(dc.exrds.sel(band=1536), [\"x\", \"y\"]).opts(\n",
    "    cmap=\"viridis\", clipping_colors={\"NaN\": \"transparent\"}\n",
    ").select(idx=ed.sel_idxs)"
   ]
  },
  {
   "cell_type": "code",
   "execution_count": null,
   "metadata": {
    "ExecuteTime": {
     "end_time": "2021-11-07T22:52:33.274745Z",
     "start_time": "2021-11-07T22:52:33.274745Z"
    }
   },
   "outputs": [],
   "source": [
    "sel_idxs = ed.data.eds.select(ed.ls1.selection_expr).data.idx.to_numpy()\n",
    "nonsel_idxs = np.array(list(set(np.arange(ed.data.embedding_data.index.stop)) - set(sel_idxs)))\n",
    "sel_idxs, nonsel_idxs"
   ]
  },
  {
   "cell_type": "code",
   "execution_count": null,
   "metadata": {},
   "outputs": [],
   "source": []
  },
  {
   "cell_type": "code",
   "execution_count": null,
   "metadata": {
    "ExecuteTime": {
     "end_time": "2021-11-07T22:52:33.275746Z",
     "start_time": "2021-11-07T22:52:33.275746Z"
    }
   },
   "outputs": [],
   "source": [
    "idxspd = hv.Dataset(ed.data.embedding_data).select(ed.ls1.selection_expr).data.idx.to_numpy()\n",
    "idxspd"
   ]
  },
  {
   "cell_type": "code",
   "execution_count": null,
   "metadata": {
    "ExecuteTime": {
     "end_time": "2021-11-07T22:52:33.275746Z",
     "start_time": "2021-11-07T22:52:33.275746Z"
    }
   },
   "outputs": [],
   "source": [
    "import datashader as ds"
   ]
  },
  {
   "cell_type": "code",
   "execution_count": null,
   "metadata": {
    "ExecuteTime": {
     "end_time": "2021-11-07T22:52:33.276747Z",
     "start_time": "2021-11-07T22:52:33.276747Z"
    }
   },
   "outputs": [],
   "source": [
    "ed.data.embedding_data[ed.data.embedding_data[\"idx\"].isin(sel_idxs)]"
   ]
  },
  {
   "cell_type": "code",
   "execution_count": null,
   "metadata": {
    "ExecuteTime": {
     "end_time": "2021-11-07T22:52:33.277748Z",
     "start_time": "2021-11-07T22:52:33.277748Z"
    }
   },
   "outputs": [],
   "source": [
    "ed.data.exrds"
   ]
  },
  {
   "cell_type": "code",
   "execution_count": null,
   "metadata": {
    "ExecuteTime": {
     "end_time": "2021-11-07T22:52:33.278749Z",
     "start_time": "2021-11-07T22:52:33.278749Z"
    }
   },
   "outputs": [],
   "source": [
    "hv.Image(ed.data.exrds.sel(band=1536, idx=sel_idxs), [\"x\", \"y\"], \"absorbance\")"
   ]
  },
  {
   "cell_type": "code",
   "execution_count": null,
   "metadata": {
    "ExecuteTime": {
     "end_time": "2021-11-07T22:52:33.278749Z",
     "start_time": "2021-11-07T22:52:33.278749Z"
    }
   },
   "outputs": [],
   "source": [
    "sel_idxs = ed.data.eds.select(ed.ls1.selection_expr).data.idx.to_numpy()\n",
    "nonsel_idxs = np.array(list(set(np.arange(ed.data.embedding_data.index.stop)) - set(sel_idxs)))\n",
    "\n",
    "# sel = hv.Scatter(ed.data.embedding_data, \"PC 1\", \"PC 2\").iloc[sel_idxs]\n",
    "# non_sel = hv.Scatter(ed.data.embedding_data, \"PC 1\", \"PC 2\").iloc[nonsel_idxs]\n",
    "sel = hv.Scatter(ed.data.embedding_data, \"UMAP component 1\", \"UMAP component 2\").iloc[sel_idxs]\n",
    "non_sel = hv.Scatter(ed.data.embedding_data, \"UMAP component 1\", \"UMAP component 2\").iloc[nonsel_idxs]\n",
    "\n",
    "sel = datashade(hv.Points(ed.data.embedding_data, [\"x\", \"y\"], \"abs_1536\").iloc[sel_idxs])\n",
    "non_sel = datashade(hv.Points(ed.data.embedding_data, [\"x\", \"y\"], \"abs_1536\").iloc[nonsel_idxs])\n",
    "\n",
    "pn.Column(datashade(hv.NdOverlay({\"sel\": sel, \"nonsel\": non_sel}, \"seli\"), aggregator=ds.by(\"seli\", ds.count())).opts(width=(2*size), height=(2*size)))"
   ]
  },
  {
   "cell_type": "code",
   "execution_count": null,
   "metadata": {
    "ExecuteTime": {
     "end_time": "2021-11-07T22:52:33.279749Z",
     "start_time": "2021-11-07T22:52:33.279749Z"
    }
   },
   "outputs": [],
   "source": [
    "hv.NdOverlay({\"sel\": sel, \"all\": alls}, \"sel\")"
   ]
  },
  {
   "cell_type": "code",
   "execution_count": null,
   "metadata": {
    "ExecuteTime": {
     "end_time": "2021-11-07T22:52:33.279749Z",
     "start_time": "2021-11-07T22:52:33.279749Z"
    }
   },
   "outputs": [],
   "source": [
    "pn.Row(sel, alls)"
   ]
  },
  {
   "cell_type": "code",
   "execution_count": null,
   "metadata": {
    "ExecuteTime": {
     "end_time": "2021-11-07T22:52:33.280751Z",
     "start_time": "2021-11-07T22:52:33.280751Z"
    },
    "scrolled": true
   },
   "outputs": [],
   "source": [
    "dc.embedding_data[\"idx\"]"
   ]
  },
  {
   "cell_type": "code",
   "execution_count": null,
   "metadata": {
    "ExecuteTime": {
     "end_time": "2021-11-07T22:52:33.281752Z",
     "start_time": "2021-11-07T22:52:33.281752Z"
    }
   },
   "outputs": [],
   "source": [
    "ed.update_embeddings_pipes()\n",
    "ed.update_sample_pipe()"
   ]
  },
  {
   "cell_type": "code",
   "execution_count": null,
   "metadata": {
    "ExecuteTime": {
     "end_time": "2021-11-07T22:52:33.282752Z",
     "start_time": "2021-11-07T22:52:33.282752Z"
    }
   },
   "outputs": [],
   "source": [
    "df = pd.DataFrame({\n",
    "#     'A': [0, 1, 2, 3, 4],\n",
    "#     'B': [5, 6, 7, 8, 9],\n",
    "    'C': ['a', 'b', 'c', 'd', 'e']\n",
    "})\n",
    "df"
   ]
  },
  {
   "cell_type": "code",
   "execution_count": null,
   "metadata": {
    "ExecuteTime": {
     "end_time": "2021-11-07T22:52:33.282752Z",
     "start_time": "2021-11-07T22:52:33.282752Z"
    }
   },
   "outputs": [],
   "source": [
    "df2 = pd.DataFrame({\"A\": [4, 3, 2, 1, 0], \"B\": [10, 11, 12, 13, 14]})\n",
    "df[df2.columns] = df2\n",
    "df"
   ]
  },
  {
   "cell_type": "code",
   "execution_count": null,
   "metadata": {
    "ExecuteTime": {
     "end_time": "2021-11-07T22:52:33.283753Z",
     "start_time": "2021-11-07T22:52:33.283753Z"
    }
   },
   "outputs": [],
   "source": [
    "dc.exrds"
   ]
  },
  {
   "cell_type": "code",
   "execution_count": null,
   "metadata": {
    "ExecuteTime": {
     "end_time": "2021-11-07T22:52:33.284755Z",
     "start_time": "2021-11-07T22:52:33.284755Z"
    }
   },
   "outputs": [],
   "source": [
    "dc.all_data.shape"
   ]
  },
  {
   "cell_type": "code",
   "execution_count": null,
   "metadata": {
    "ExecuteTime": {
     "end_time": "2021-11-07T22:52:33.284755Z",
     "start_time": "2021-11-07T22:52:33.284755Z"
    }
   },
   "outputs": [],
   "source": [
    "dc.embedding_data[\"idx\"]"
   ]
  },
  {
   "cell_type": "code",
   "execution_count": null,
   "metadata": {
    "ExecuteTime": {
     "end_time": "2021-11-07T22:52:33.285756Z",
     "start_time": "2021-11-07T22:52:33.285756Z"
    }
   },
   "outputs": [],
   "source": [
    "s"
   ]
  },
  {
   "cell_type": "code",
   "execution_count": null,
   "metadata": {
    "ExecuteTime": {
     "end_time": "2021-11-07T22:52:33.286756Z",
     "start_time": "2021-11-07T22:52:33.286756Z"
    }
   },
   "outputs": [],
   "source": [
    "s = np.rot90(np.arange(np.product(dc.all_data.shape[:2])).reshape((dc.all_data.shape[:2])))\n",
    "hv.Image(s)"
   ]
  },
  {
   "cell_type": "code",
   "execution_count": null,
   "metadata": {
    "ExecuteTime": {
     "end_time": "2021-11-07T22:52:33.287757Z",
     "start_time": "2021-11-07T22:52:33.287757Z"
    }
   },
   "outputs": [],
   "source": [
    "dc.exrds.absorbance"
   ]
  },
  {
   "cell_type": "code",
   "execution_count": null,
   "metadata": {
    "ExecuteTime": {
     "end_time": "2021-11-07T22:52:33.287757Z",
     "start_time": "2021-11-07T22:52:33.287757Z"
    }
   },
   "outputs": [],
   "source": [
    "dc.exrds = dc.exrds.assign_coords({\"x\": np.arange(dc.all_data.shape[1]), \"y\": np.arange(dc.all_data.shape[0]), \"idx\": ((\"x\", \"y\"), np.rot90(np.arange(np.product(dc.sel_data.shape[:2])).reshape(dc.sel_data.shape[:2])))})"
   ]
  },
  {
   "cell_type": "code",
   "execution_count": null,
   "metadata": {
    "ExecuteTime": {
     "end_time": "2021-11-07T22:52:33.288757Z",
     "start_time": "2021-11-07T22:52:33.288757Z"
    }
   },
   "outputs": [],
   "source": [
    "dc.exrds = dc.exrds.assign_coords(idx=((\"x\", \"y\"), np.arange(np.product(dc.all_data.shape[:2])).reshape(dc.all_data.shape[:2])))"
   ]
  },
  {
   "cell_type": "code",
   "execution_count": null,
   "metadata": {
    "ExecuteTime": {
     "end_time": "2021-11-07T22:52:33.288757Z",
     "start_time": "2021-11-07T22:52:33.288757Z"
    }
   },
   "outputs": [],
   "source": [
    "ed.ls"
   ]
  },
  {
   "cell_type": "code",
   "execution_count": null,
   "metadata": {
    "ExecuteTime": {
     "end_time": "2021-11-07T22:52:33.289758Z",
     "start_time": "2021-11-07T22:52:33.289758Z"
    }
   },
   "outputs": [],
   "source": [
    "dc.embedding_data"
   ]
  },
  {
   "cell_type": "code",
   "execution_count": null,
   "metadata": {
    "ExecuteTime": {
     "end_time": "2021-11-07T22:52:33.290759Z",
     "start_time": "2021-11-07T22:52:33.290759Z"
    }
   },
   "outputs": [],
   "source": [
    "dc.embedding_data.dtypes.loc[[\"x\", \"y\"]]"
   ]
  },
  {
   "cell_type": "code",
   "execution_count": null,
   "metadata": {
    "ExecuteTime": {
     "end_time": "2021-11-07T22:52:33.291760Z",
     "start_time": "2021-11-07T22:52:33.291760Z"
    }
   },
   "outputs": [],
   "source": [
    "dc.embedding_data[\"idx\"] = dc.embedding_data.index\n",
    "dc.embedding_data"
   ]
  },
  {
   "cell_type": "code",
   "execution_count": null,
   "metadata": {
    "ExecuteTime": {
     "end_time": "2021-11-07T22:52:33.291760Z",
     "start_time": "2021-11-07T22:52:33.291760Z"
    }
   },
   "outputs": [],
   "source": [
    "hv.Image(dc.embedding_data, [\"x\", \"y\"], \"abs_1720\")"
   ]
  },
  {
   "cell_type": "code",
   "execution_count": null,
   "metadata": {
    "ExecuteTime": {
     "end_time": "2021-11-07T22:52:33.292761Z",
     "start_time": "2021-11-07T22:52:33.292761Z"
    }
   },
   "outputs": [],
   "source": [
    "ed.ls"
   ]
  },
  {
   "cell_type": "code",
   "execution_count": null,
   "metadata": {
    "ExecuteTime": {
     "end_time": "2021-11-07T22:52:33.293763Z",
     "start_time": "2021-11-07T22:52:33.293763Z"
    }
   },
   "outputs": [],
   "source": [
    "ed_view.objects[2]"
   ]
  },
  {
   "cell_type": "code",
   "execution_count": null,
   "metadata": {
    "ExecuteTime": {
     "end_time": "2021-11-07T22:52:33.293763Z",
     "start_time": "2021-11-07T22:52:33.293763Z"
    }
   },
   "outputs": [],
   "source": [
    "ed_view.objects[2].object.data[()].data[('HeatMap', 'I')].data"
   ]
  },
  {
   "cell_type": "code",
   "execution_count": null,
   "metadata": {
    "ExecuteTime": {
     "end_time": "2021-11-07T22:52:33.294764Z",
     "start_time": "2021-11-07T22:52:33.294764Z"
    }
   },
   "outputs": [],
   "source": [
    "ed_view.objects[1].object.data[('DynamicMap', 'III')].data[()].data[('Image', 'II')].opts(cmap=\"kbc_r\")"
   ]
  },
  {
   "cell_type": "code",
   "execution_count": null,
   "metadata": {
    "ExecuteTime": {
     "end_time": "2021-11-07T22:52:33.295765Z",
     "start_time": "2021-11-07T22:52:33.295765Z"
    }
   },
   "outputs": [],
   "source": [
    "ed_view.objects[1].object.data[('DynamicMap', 'III')].data[()].data[('Scatter', 'I')].data"
   ]
  }
 ],
 "metadata": {
  "interpreter": {
   "hash": "3c5f72628bc13ec335a173fbacf9a643cb04e21d322c5a25f6ee7b6934c5ad24"
  },
  "kernelspec": {
   "display_name": "Python 3 (ipykernel)",
   "language": "python",
   "name": "python3"
  },
  "language_info": {
   "codemirror_mode": {
    "name": "ipython",
    "version": 3
   },
   "file_extension": ".py",
   "mimetype": "text/x-python",
   "name": "python",
   "nbconvert_exporter": "python",
   "pygments_lexer": "ipython3",
   "version": "3.9.7"
  },
  "toc": {
   "base_numbering": 1,
   "nav_menu": {
    "height": "316px",
    "width": "297px"
   },
   "number_sections": true,
   "sideBar": true,
   "skip_h1_title": false,
   "title_cell": "Table of Contents",
   "title_sidebar": "Contents",
   "toc_cell": false,
   "toc_position": {
    "height": "calc(100% - 180px)",
    "left": "10px",
    "top": "150px",
    "width": "265.592px"
   },
   "toc_section_display": true,
   "toc_window_display": true
  },
  "toc-showmarkdowntxt": false
 },
 "nbformat": 4,
 "nbformat_minor": 4
}
